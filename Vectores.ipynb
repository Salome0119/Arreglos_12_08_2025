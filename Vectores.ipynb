{
  "nbformat": 4,
  "nbformat_minor": 0,
  "metadata": {
    "colab": {
      "provenance": [],
      "authorship_tag": "ABX9TyPQc3zoDWbYq/fFWow+7Tue",
      "include_colab_link": true
    },
    "kernelspec": {
      "name": "python3",
      "display_name": "Python 3"
    },
    "language_info": {
      "name": "python"
    }
  },
  "cells": [
    {
      "cell_type": "markdown",
      "metadata": {
        "id": "view-in-github",
        "colab_type": "text"
      },
      "source": [
        "<a href=\"https://colab.research.google.com/github/Salome0119/Arreglos_12_08_2025/blob/main/Vectores.ipynb\" target=\"_parent\"><img src=\"https://colab.research.google.com/assets/colab-badge.svg\" alt=\"Open In Colab\"/></a>"
      ]
    },
    {
      "cell_type": "markdown",
      "source": [
        "Los vectores son reservas de memoria para almacenar informacion, solo puede ser de un tipo, si es numerico, es numerico, si es texto, debe continuar siendo texto, est aplica para las matrices.\n",
        "Los arreglos son identificadores son estaticos, esto significa que es otra forma de definir variables y constantes"
      ],
      "metadata": {
        "id": "RzXdAA9lU7h3"
      }
    },
    {
      "cell_type": "code",
      "source": [
        "import numpy as np # np es un aleas para recortar el nombre de numpy\n",
        "\n",
        "vector = np.array([1, 2, 3, 4, 5])#Creamos un vector de numpy\n",
        "print(vector) #Imprimimos el vector\n",
        "#Quiero imprimir el tercer elemento del vector\n",
        "print(vector[2])\n",
        "\n",
        "\"\"\"\n",
        " Los vectores no son como las listas, no tienen un método append()\n",
        " para agregar elementos y no tienen un método pop() para eliminar elementos,\n",
        " pero sí tienen método reshape() para cambiar su forma, adicionalmente despues\n",
        " de creado no se puede cambiar el tamaño del vector\n",
        "\n",
        "\"\"\"\n",
        "\n",
        "vector1 = np.zeros(5)# Imprimimos el vector de ceros\n",
        "print(vector1)\n",
        "vector2 = np.ones(5)# Imprimimos el vector de unos\n",
        "print(vector2)\n",
        "vector3 = np.arange(1,10)# Imprimimos el vector de rango del 1 al 10\n",
        "print(\"rango\",vector3)\n",
        "vector4 = np.linspace(1, 10, 5) #Creamo un vector de 5 números entre 1 y 10\n",
        "print(\"linspace\",vector4)\n",
        "vector5 = np.random.rand(10)#Numeros aleatorias del 0 a 100\n",
        "print(vector5)\n",
        "vector6 = np.random.randint(1, 10, 10)\n",
        "print(vector6)"
      ],
      "metadata": {
        "colab": {
          "base_uri": "https://localhost:8080/"
        },
        "id": "bloNeH5vVdHB",
        "outputId": "aa42a25f-9e3f-4ced-be8a-b4d4b0285274"
      },
      "execution_count": 1,
      "outputs": [
        {
          "output_type": "stream",
          "name": "stdout",
          "text": [
            "[1 2 3 4 5]\n",
            "3\n",
            "[0. 0. 0. 0. 0.]\n",
            "[1. 1. 1. 1. 1.]\n",
            "rango [1 2 3 4 5 6 7 8 9]\n",
            "linspace [ 1.    3.25  5.5   7.75 10.  ]\n",
            "[0.51630211 0.32222437 0.73011293 0.24978937 0.89611849 0.53431818\n",
            " 0.98838506 0.94777747 0.06658215 0.86939959]\n",
            "[1 9 8 3 5 3 5 5 5 2]\n"
          ]
        }
      ]
    },
    {
      "cell_type": "code",
      "source": [
        "import numpy as np\n",
        "vector1 = np.array([1, 2, 3])\n",
        "vector2 = np.array([4, 5, 6])\n",
        "#Suma de vectores\n",
        "suma = vector1 + vector2\n",
        "print(\"Suma de vectores \", suma) #Imprimir suma\n",
        "\n",
        "#Multiplicación de vectores\n",
        "producto = vector1 * vector2 #Multiplicación de vectores\n",
        "print(\"Producto de vectores \", producto) #Imprimir multiplicación\n",
        "\n",
        "#División de vectores\n",
        "division = vector1 / vector2 #División de vectores\n",
        "print(\"División de vectores \", division) #Imprimir división\n",
        "\n",
        "#Resta de vectores\n",
        "resta = vector1 - vector2 #Resta de vectores\n",
        "print(\"Resta de vectores \", resta) #Imprimir resta\n",
        "\n",
        "#Potencia de vectores\n",
        "potencia = vector1 ** 2 #Potencia de vectores\n",
        "print(\"\\\"Potencia de vectores \", potencia) #Imprimir potencia\n"
      ],
      "metadata": {
        "colab": {
          "base_uri": "https://localhost:8080/"
        },
        "id": "KaBAU6uYqv6O",
        "outputId": "70413d7a-e96a-464a-8105-1189106192ae"
      },
      "execution_count": 2,
      "outputs": [
        {
          "output_type": "stream",
          "name": "stdout",
          "text": [
            "Suma de vectores  [5 7 9]\n",
            "Producto de vectores  [ 4 10 18]\n",
            "División de vectores  [0.25 0.4  0.5 ]\n",
            "Resta de vectores  [-3 -3 -3]\n",
            "\"Potencia de vectores  [1 4 9]\n"
          ]
        }
      ]
    },
    {
      "cell_type": "markdown",
      "source": [
        "Colores"
      ],
      "metadata": {
        "id": "H5R9TP3Eso0l"
      }
    },
    {
      "cell_type": "code",
      "source": [
        "import numpy as np\n",
        "vector1 = np.array([1, 2, 3])\n",
        "vector2 = np.array([4, 5, 6])\n",
        "#Suma de vectores\n",
        "suma = vector1 + vector2\n",
        "print(\"\\033[96mSuma de vectores\\033[0m \", suma) #Imprimir suma\n",
        "\n",
        "#Multiplicación de vectores\n",
        "producto = vector1 * vector2 #Multiplicación de vectores\n",
        "print(\"\\033[92mProducto de vectores\\033[0m \", producto) #Imprimir multiplicación\n",
        "\n",
        "#División de vectores\n",
        "division = vector1 / vector2 #División de vectores\n",
        "print(\"\\033[95mDivisión de vectores\\033[0m \", division) #Imprimir división\n",
        "\n",
        "#Resta de vectores\n",
        "resta = vector1 - vector2 #Resta de vectores\n",
        "print(\"\\033[93mResta de vectores\\033[0m \", resta) #Imprimir resta\n",
        "\n",
        "#Potencia de vectores\n",
        "potencia = vector1 ** 2 #Potencia de vectores\n",
        "print(\"\\033[91mPotencia de vectores\\033[0m:\", potencia) #Imprimir potencia\n"
      ],
      "metadata": {
        "colab": {
          "base_uri": "https://localhost:8080/"
        },
        "id": "ybK03bIssqpr",
        "outputId": "19aed043-9f42-4072-e9ae-4dcb654377a7"
      },
      "execution_count": 3,
      "outputs": [
        {
          "output_type": "stream",
          "name": "stdout",
          "text": [
            "\u001b[96mSuma de vectores\u001b[0m  [5 7 9]\n",
            "\u001b[92mProducto de vectores\u001b[0m  [ 4 10 18]\n",
            "\u001b[95mDivisión de vectores\u001b[0m  [0.25 0.4  0.5 ]\n",
            "\u001b[93mResta de vectores\u001b[0m  [-3 -3 -3]\n",
            "\u001b[91mPotencia de vectores\u001b[0m: [1 4 9]\n"
          ]
        }
      ]
    }
  ]
}